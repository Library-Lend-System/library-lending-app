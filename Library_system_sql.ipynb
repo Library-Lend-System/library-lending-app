{
    "metadata": {
        "kernelspec": {
            "name": "SQL",
            "display_name": "SQL",
            "language": "sql"
        },
        "language_info": {
            "name": "sql",
            "version": ""
        }
    },
    "nbformat_minor": 2,
    "nbformat": 4,
    "cells": [
        {
            "cell_type": "code",
            "source": [
                "-- CREATE DATABASE Library_System_DB;"
            ],
            "metadata": {
                "azdata_cell_guid": "484df078-b26f-4227-8663-cd94e7381d3b",
                "language": "sql"
            },
            "outputs": [
                {
                    "output_type": "display_data",
                    "data": {
                        "text/html": "Commands completed successfully."
                    },
                    "metadata": {}
                },
                {
                    "output_type": "display_data",
                    "data": {
                        "text/html": "Total execution time: 00:00:00.002"
                    },
                    "metadata": {}
                }
            ],
            "execution_count": 16
        },
        {
            "cell_type": "code",
            "source": [
                "use Library_System_DB;"
            ],
            "metadata": {
                "language": "sql",
                "azdata_cell_guid": "181d871d-6ef3-4d8f-b5a9-b2a147da0f10"
            },
            "outputs": [
                {
                    "output_type": "display_data",
                    "data": {
                        "text/html": "Commands completed successfully."
                    },
                    "metadata": {}
                },
                {
                    "output_type": "display_data",
                    "data": {
                        "text/html": "Total execution time: 00:00:00.002"
                    },
                    "metadata": {}
                }
            ],
            "execution_count": 17
        },
        {
            "cell_type": "code",
            "source": [
                "DROP TABLE IF EXISTS Lending;\r\n",
                "DROP TABLE IF EXISTS Contact;\r\n",
                "DROP TABLE IF EXISTS Book;\r\n",
                "DROP TABLE IF EXISTS Member;"
            ],
            "metadata": {
                "language": "sql",
                "azdata_cell_guid": "1be49bb9-633d-4939-a4fe-0ba7be917880"
            },
            "outputs": [
                {
                    "output_type": "display_data",
                    "data": {
                        "text/html": "Commands completed successfully."
                    },
                    "metadata": {}
                },
                {
                    "output_type": "display_data",
                    "data": {
                        "text/html": "Total execution time: 00:00:00.023"
                    },
                    "metadata": {}
                }
            ],
            "execution_count": 18
        },
        {
            "cell_type": "code",
            "source": [
                "DROP TABLE IF EXISTS Member;\r\n",
                "\r\n",
                "CREATE TABLE Member (\r\n",
                "Member_id INT PRIMARY KEY,\r\n",
                "Member_name VARCHAR(24) NOT NULL,\r\n",
                "Member_gender VARCHAR(6) NOT NULL,\r\n",
                "Member_age INT NOT NULL\r\n",
                ");\r\n",
                "\r\n",
                "INSERT INTO Member (Member_id, Member_name, Member_gender, Member_age)\r\n",
                "VALUES\r\n",
                "(1, 'Somchai', 'Male', 28),\r\n",
                "(2, 'Siriporn', 'Female', 35),\r\n",
                "(3, 'Natthapong', 'Male', 42),\r\n",
                "(4, 'Thanyalak', 'Female', 22),\r\n",
                "(5, 'Nattawut', 'Male', 31),\r\n",
                "(6, 'Ratchanee', 'Female', 27),\r\n",
                "(7, 'Supaporn', 'Male', 19),\r\n",
                "(8, 'Sirirat', 'Female', 40),\r\n",
                "(9, 'Thawatchai', 'Male', 26),\r\n",
                "(10, 'Chanita', 'Female', 38),\r\n",
                "(11, 'Kittisak', 'Male', 23),\r\n",
                "(12, 'Orathai', 'Female', 29),\r\n",
                "(13, 'Chakrit', 'Male', 34),\r\n",
                "(14, 'Natthida', 'Female', 20),\r\n",
                "(15, 'Chaiwat', 'Male', 25),\r\n",
                "(16, 'Siriwan', 'Female', 33),\r\n",
                "(17, 'Santi', 'Male', 30),\r\n",
                "(18, 'Kanyarat', 'Female', 36),\r\n",
                "(19, 'Chawalit', 'Male', 41),\r\n",
                "(20, 'Nopparat', 'Female', 19);"
            ],
            "metadata": {
                "language": "sql",
                "azdata_cell_guid": "021245bb-9605-4e72-a178-ef62626f07ef"
            },
            "outputs": [
                {
                    "output_type": "display_data",
                    "data": {
                        "text/html": "(20 rows affected)"
                    },
                    "metadata": {}
                },
                {
                    "output_type": "display_data",
                    "data": {
                        "text/html": "Total execution time: 00:00:00.012"
                    },
                    "metadata": {}
                }
            ],
            "execution_count": 19
        },
        {
            "cell_type": "code",
            "source": [
                "DROP TABLE IF EXISTS Contact;\r\n",
                "\r\n",
                "CREATE TABLE Contact (\r\n",
                "  Member_id INT,\r\n",
                "  Phone_number VARCHAR(10),\r\n",
                "  PRIMARY KEY (Member_id, Phone_number),\r\n",
                "  FOREIGN KEY (Member_id) REFERENCES Member ON UPDATE CASCADE ON DELETE CASCADE,\r\n",
                "  UNIQUE (Phone_number)\r\n",
                ");\r\n",
                "\r\n",
                "INSERT INTO Contact (Member_id, Phone_number)\r\n",
                "VALUES\r\n",
                "(1, '0611582059'),\r\n",
                "(2, '0916334481'),\r\n",
                "(3, '0817103766'),\r\n",
                "(4, '0884827694'),\r\n",
                "(5, '0929812016'),\r\n",
                "(6, '0995508143'),\r\n",
                "(7, '0893466457'),\r\n",
                "(8, '0627819202'),\r\n",
                "(9, '0824315960'),\r\n",
                "(10, '0928143915'),\r\n",
                "(11, '0829915268'),\r\n",
                "(12, '0822634963'),\r\n",
                "(13, '0626552807'),\r\n",
                "(14, '0828467479'),\r\n",
                "(15, '0615726786'),\r\n",
                "(16, '0819621534'),\r\n",
                "(17, '0843097398'),\r\n",
                "(18, '0644492857'),\r\n",
                "(19, '0947431690'),\r\n",
                "(20, '0851237981');\r\n",
                ""
            ],
            "metadata": {
                "language": "sql",
                "azdata_cell_guid": "56718310-0e0c-4f22-b720-2d9a645e8f19"
            },
            "outputs": [
                {
                    "output_type": "display_data",
                    "data": {
                        "text/html": "(20 rows affected)"
                    },
                    "metadata": {}
                },
                {
                    "output_type": "display_data",
                    "data": {
                        "text/html": "Total execution time: 00:00:00.013"
                    },
                    "metadata": {}
                }
            ],
            "execution_count": 20
        },
        {
            "cell_type": "code",
            "source": [
                "DROP TABLE IF EXISTS Book;\r\n",
                "\r\n",
                "CREATE TABLE Book (\r\n",
                "Book_id INT PRIMARY KEY,\r\n",
                "Title VARCHAR(40) NOT NULL,\r\n",
                "Author VARCHAR(50) NOT NULL,\r\n",
                "Genre VARCHAR(50) NOT NULL,\r\n",
                "Publisher VARCHAR(50) NOT NULL,\r\n",
                "Publication_date DATE NOT NULL\r\n",
                ");\r\n",
                "\r\n",
                "INSERT INTO Book (Book_id, Title, Author, Genre, Publisher, Publication_date) VALUES\r\n",
                "(1, 'To Kill a Mockingbird', 'Harper Lee', 'Classic Fiction', 'HarperCollins Publishers', '1960-07-11'),\r\n",
                "(2, 'The Great Gatsby', 'F. Scott Fitzgerald', 'Literary Fiction', 'Charles Scribner''s Sons', '1925-04-10'),\r\n",
                "(3, '1984', 'George Orwell', 'Dystopian Fiction', 'Secker & Warburg', '1949-06-08'),\r\n",
                "(4, 'Animal Farm', 'George Orwell', 'Political Fiction', 'Secker & Warburg', '1945-08-17'),\r\n",
                "(5, 'Brave New World', 'Aldous Huxley', 'Dystopian Fiction', 'Chatto & Windus', '1932-06-01'),\r\n",
                "(6, 'Pride and Prejudice', 'Jane Austen', 'Romance', 'T. Egerton, Whitehall', '1813-01-28'),\r\n",
                "(7, 'The Lord of the Rings', 'J.R.R. Tolkien', 'High Fantasy', 'George Allen & Unwin', '1954-07-29'),\r\n",
                "(8, 'The Catcher in the Rye', 'J.D. Salinger', 'Coming-of-age Fiction', 'Little, Brown and Company', '1951-07-16'),\r\n",
                "(9, 'To the Lighthouse', 'Virginia Woolf', 'Modernist Literature', 'Hogarth Press', '1927-05-05'),\r\n",
                "(10, 'The Color Purple', 'Alice Walker', 'Epistolary Novel', 'Harcourt Brace Jovanovich', '1982-06-01'),\r\n",
                "(11, 'The Hobbit', 'J.R.R. Tolkien', 'Fantasy', 'George Allen & Unwin', '1937-09-21'),\r\n",
                "(12, 'The Adventures of Huckleberry Finn', 'Mark Twain', 'Adventure', 'Chatto & Windus', '1884-12-10'),\r\n",
                "(13, 'Moby-Dick', 'Herman Melville', 'Adventure Fiction', 'Harper & Brothers', '1851-10-18'),\r\n",
                "(14, 'Frankenstein', 'Mary Shelley', 'Gothic Fiction', 'Lackington, Hughes, Harding, Mavor & Jones', '1818-01-01'),\r\n",
                "(15, 'Dracula', 'Bram Stoker', 'Gothic Fiction', 'Archibald Constable and Company', '1897-05-26'),\r\n",
                "(16, 'Jane Eyre', 'Charlotte Bronte', 'Gothic Fiction', 'Smith, Elder & Co.', '1847-10-16'),\r\n",
                "(17, 'The Picture of Dorian Gray', 'Oscar Wilde', 'Philosophical Fiction', 'Lippincott''s Monthly Magazine', '1890-06-20'),\r\n",
                "(18, 'Gone with the Wind', 'Margaret Mitchell', 'Historical Fiction', 'Macmillan Publishers', '1936-06-30'),\r\n",
                "(19, 'The Alchemist', 'Paulo Coelho', 'Fiction', 'HarperCollins', '1988-01-01'),\r\n",
                "(20, 'The Chronicles of Narnia', 'C.S. Lewis', 'Fantasy', 'Geoffrey Bles', '1950-10-16');\r\n",
                ""
            ],
            "metadata": {
                "language": "sql",
                "azdata_cell_guid": "1be56b4e-985e-4933-b0ee-95ccc3cb0117"
            },
            "outputs": [
                {
                    "output_type": "display_data",
                    "data": {
                        "text/html": "(20 rows affected)"
                    },
                    "metadata": {}
                },
                {
                    "output_type": "display_data",
                    "data": {
                        "text/html": "Total execution time: 00:00:00.013"
                    },
                    "metadata": {}
                }
            ],
            "execution_count": 21
        },
        {
            "cell_type": "code",
            "source": [
                "DROP TABLE IF EXISTS Lending;\r\n",
                "\r\n",
                "CREATE TABLE Lending (\r\n",
                "Lending_id INT PRIMARY KEY,\r\n",
                "Member_id INT NOT NULL,\r\n",
                "Book_id INT NOT NULL,\r\n",
                "Borrow_date DATE NOT NULL,\r\n",
                "Return_date DATE,\r\n",
                "FOREIGN KEY (Member_id) REFERENCES Member(Member_id) ON UPDATE CASCADE\r\n",
                "ON DELETE CASCADE,\r\n",
                "FOREIGN KEY (Book_id) REFERENCES Book(Book_id) ON UPDATE CASCADE\r\n",
                "ON DELETE CASCADE\r\n",
                ");\r\n",
                "\r\n",
                "INSERT INTO Lending (Lending_id, Member_id, Book_id, Borrow_date, Return_date) VALUES\r\n",
                "(1, 1, 2, '2022-01-05', '2022-01-15'),\r\n",
                "(2, 3, 4, '2022-02-10', '2022-02-20'),\r\n",
                "(3, 2, 5, '2022-03-15', NULL),\r\n",
                "(4, 5, 7, '2022-04-20', '2022-05-01'),\r\n",
                "(5, 4, 9, '2022-05-25', '2022-06-05'),\r\n",
                "(6, 1, 11, '2022-06-30', NULL),\r\n",
                "(7, 6, 13, '2022-07-05', '2022-07-15'),\r\n",
                "(8, 3, 15, '2022-08-10', '2022-08-20'),\r\n",
                "(9, 4, 17, '2022-09-15', NULL),\r\n",
                "(10, 2, 19, '2022-10-20', '2022-11-01'),\r\n",
                "(11, 5, 1, '2022-11-25', '2022-12-05'),\r\n",
                "(12, 6, 3, '2022-12-30', NULL),\r\n",
                "(13, 1, 5, '2023-01-05', '2023-01-15'),\r\n",
                "(14, 2, 7, '2023-02-10', '2023-02-20'),\r\n",
                "(15, 3, 9, '2023-03-15', NULL),\r\n",
                "(16, 4, 11, '2023-04-20', '2023-05-01'),\r\n",
                "(17, 5, 13, '2023-05-25', '2023-06-05'),\r\n",
                "(18, 6, 15, '2023-06-30', NULL),\r\n",
                "(19, 1, 17, '2023-07-05', '2023-07-15'),\r\n",
                "(20, 2, 19, '2023-08-10', '2023-08-20');"
            ],
            "metadata": {
                "language": "sql",
                "azdata_cell_guid": "f312bd6d-8cdd-4216-9e8e-d7896575b6ea"
            },
            "outputs": [
                {
                    "output_type": "display_data",
                    "data": {
                        "text/html": "(20 rows affected)"
                    },
                    "metadata": {}
                },
                {
                    "output_type": "display_data",
                    "data": {
                        "text/html": "Total execution time: 00:00:00.026"
                    },
                    "metadata": {}
                }
            ],
            "execution_count": 22
        },
        {
            "cell_type": "code",
            "source": [
                "select M.Member_id, M.Member_name, M.Member_gender, M.Member_age, C.Phone_number from Member as M join Contact as C on M.Member_id = C.Member_id;"
            ],
            "metadata": {
                "language": "sql",
                "azdata_cell_guid": "0e3ac6f4-d014-4214-a021-f04a86f306e2"
            },
            "outputs": [
                {
                    "output_type": "display_data",
                    "data": {
                        "text/html": "(20 rows affected)"
                    },
                    "metadata": {}
                },
                {
                    "output_type": "display_data",
                    "data": {
                        "text/html": "Total execution time: 00:00:00.014"
                    },
                    "metadata": {}
                },
                {
                    "output_type": "execute_result",
                    "metadata": {},
                    "execution_count": 23,
                    "data": {
                        "application/vnd.dataresource+json": {
                            "schema": {
                                "fields": [
                                    {
                                        "name": "Member_id"
                                    },
                                    {
                                        "name": "Member_name"
                                    },
                                    {
                                        "name": "Member_gender"
                                    },
                                    {
                                        "name": "Member_age"
                                    },
                                    {
                                        "name": "Phone_number"
                                    }
                                ]
                            },
                            "data": [
                                {
                                    "0": "1",
                                    "1": "Somchai",
                                    "2": "Male",
                                    "3": "28",
                                    "4": "0611582059"
                                },
                                {
                                    "0": "2",
                                    "1": "Siriporn",
                                    "2": "Female",
                                    "3": "35",
                                    "4": "0916334481"
                                },
                                {
                                    "0": "3",
                                    "1": "Natthapong",
                                    "2": "Male",
                                    "3": "42",
                                    "4": "0817103766"
                                },
                                {
                                    "0": "4",
                                    "1": "Thanyalak",
                                    "2": "Female",
                                    "3": "22",
                                    "4": "0884827694"
                                },
                                {
                                    "0": "5",
                                    "1": "Nattawut",
                                    "2": "Male",
                                    "3": "31",
                                    "4": "0929812016"
                                },
                                {
                                    "0": "6",
                                    "1": "Ratchanee",
                                    "2": "Female",
                                    "3": "27",
                                    "4": "0995508143"
                                },
                                {
                                    "0": "7",
                                    "1": "Supaporn",
                                    "2": "Male",
                                    "3": "19",
                                    "4": "0893466457"
                                },
                                {
                                    "0": "8",
                                    "1": "Sirirat",
                                    "2": "Female",
                                    "3": "40",
                                    "4": "0627819202"
                                },
                                {
                                    "0": "9",
                                    "1": "Thawatchai",
                                    "2": "Male",
                                    "3": "26",
                                    "4": "0824315960"
                                },
                                {
                                    "0": "10",
                                    "1": "Chanita",
                                    "2": "Female",
                                    "3": "38",
                                    "4": "0928143915"
                                },
                                {
                                    "0": "11",
                                    "1": "Kittisak",
                                    "2": "Male",
                                    "3": "23",
                                    "4": "0829915268"
                                },
                                {
                                    "0": "12",
                                    "1": "Orathai",
                                    "2": "Female",
                                    "3": "29",
                                    "4": "0822634963"
                                },
                                {
                                    "0": "13",
                                    "1": "Chakrit",
                                    "2": "Male",
                                    "3": "34",
                                    "4": "0626552807"
                                },
                                {
                                    "0": "14",
                                    "1": "Natthida",
                                    "2": "Female",
                                    "3": "20",
                                    "4": "0828467479"
                                },
                                {
                                    "0": "15",
                                    "1": "Chaiwat",
                                    "2": "Male",
                                    "3": "25",
                                    "4": "0615726786"
                                },
                                {
                                    "0": "16",
                                    "1": "Siriwan",
                                    "2": "Female",
                                    "3": "33",
                                    "4": "0819621534"
                                },
                                {
                                    "0": "17",
                                    "1": "Santi",
                                    "2": "Male",
                                    "3": "30",
                                    "4": "0843097398"
                                },
                                {
                                    "0": "18",
                                    "1": "Kanyarat",
                                    "2": "Female",
                                    "3": "36",
                                    "4": "0644492857"
                                },
                                {
                                    "0": "19",
                                    "1": "Chawalit",
                                    "2": "Male",
                                    "3": "41",
                                    "4": "0947431690"
                                },
                                {
                                    "0": "20",
                                    "1": "Nopparat",
                                    "2": "Female",
                                    "3": "19",
                                    "4": "0851237981"
                                }
                            ]
                        },
                        "text/html": [
                            "<table>",
                            "<tr><th>Member_id</th><th>Member_name</th><th>Member_gender</th><th>Member_age</th><th>Phone_number</th></tr>",
                            "<tr><td>1</td><td>Somchai</td><td>Male</td><td>28</td><td>0611582059</td></tr>",
                            "<tr><td>2</td><td>Siriporn</td><td>Female</td><td>35</td><td>0916334481</td></tr>",
                            "<tr><td>3</td><td>Natthapong</td><td>Male</td><td>42</td><td>0817103766</td></tr>",
                            "<tr><td>4</td><td>Thanyalak</td><td>Female</td><td>22</td><td>0884827694</td></tr>",
                            "<tr><td>5</td><td>Nattawut</td><td>Male</td><td>31</td><td>0929812016</td></tr>",
                            "<tr><td>6</td><td>Ratchanee</td><td>Female</td><td>27</td><td>0995508143</td></tr>",
                            "<tr><td>7</td><td>Supaporn</td><td>Male</td><td>19</td><td>0893466457</td></tr>",
                            "<tr><td>8</td><td>Sirirat</td><td>Female</td><td>40</td><td>0627819202</td></tr>",
                            "<tr><td>9</td><td>Thawatchai</td><td>Male</td><td>26</td><td>0824315960</td></tr>",
                            "<tr><td>10</td><td>Chanita</td><td>Female</td><td>38</td><td>0928143915</td></tr>",
                            "<tr><td>11</td><td>Kittisak</td><td>Male</td><td>23</td><td>0829915268</td></tr>",
                            "<tr><td>12</td><td>Orathai</td><td>Female</td><td>29</td><td>0822634963</td></tr>",
                            "<tr><td>13</td><td>Chakrit</td><td>Male</td><td>34</td><td>0626552807</td></tr>",
                            "<tr><td>14</td><td>Natthida</td><td>Female</td><td>20</td><td>0828467479</td></tr>",
                            "<tr><td>15</td><td>Chaiwat</td><td>Male</td><td>25</td><td>0615726786</td></tr>",
                            "<tr><td>16</td><td>Siriwan</td><td>Female</td><td>33</td><td>0819621534</td></tr>",
                            "<tr><td>17</td><td>Santi</td><td>Male</td><td>30</td><td>0843097398</td></tr>",
                            "<tr><td>18</td><td>Kanyarat</td><td>Female</td><td>36</td><td>0644492857</td></tr>",
                            "<tr><td>19</td><td>Chawalit</td><td>Male</td><td>41</td><td>0947431690</td></tr>",
                            "<tr><td>20</td><td>Nopparat</td><td>Female</td><td>19</td><td>0851237981</td></tr>",
                            "</table>"
                        ]
                    }
                }
            ],
            "execution_count": 23
        },
        {
            "cell_type": "code",
            "source": [
                "select * from Contact;"
            ],
            "metadata": {
                "language": "sql",
                "azdata_cell_guid": "0babbb0c-5a58-4ffe-b5ce-2ba5a7b40a49"
            },
            "outputs": [
                {
                    "output_type": "display_data",
                    "data": {
                        "text/html": "(20 rows affected)"
                    },
                    "metadata": {}
                },
                {
                    "output_type": "display_data",
                    "data": {
                        "text/html": "Total execution time: 00:00:00.006"
                    },
                    "metadata": {}
                },
                {
                    "output_type": "execute_result",
                    "metadata": {},
                    "execution_count": 24,
                    "data": {
                        "application/vnd.dataresource+json": {
                            "schema": {
                                "fields": [
                                    {
                                        "name": "Member_id"
                                    },
                                    {
                                        "name": "Phone_number"
                                    }
                                ]
                            },
                            "data": [
                                {
                                    "0": "1",
                                    "1": "0611582059"
                                },
                                {
                                    "0": "15",
                                    "1": "0615726786"
                                },
                                {
                                    "0": "13",
                                    "1": "0626552807"
                                },
                                {
                                    "0": "8",
                                    "1": "0627819202"
                                },
                                {
                                    "0": "18",
                                    "1": "0644492857"
                                },
                                {
                                    "0": "3",
                                    "1": "0817103766"
                                },
                                {
                                    "0": "16",
                                    "1": "0819621534"
                                },
                                {
                                    "0": "12",
                                    "1": "0822634963"
                                },
                                {
                                    "0": "9",
                                    "1": "0824315960"
                                },
                                {
                                    "0": "14",
                                    "1": "0828467479"
                                },
                                {
                                    "0": "11",
                                    "1": "0829915268"
                                },
                                {
                                    "0": "17",
                                    "1": "0843097398"
                                },
                                {
                                    "0": "20",
                                    "1": "0851237981"
                                },
                                {
                                    "0": "4",
                                    "1": "0884827694"
                                },
                                {
                                    "0": "7",
                                    "1": "0893466457"
                                },
                                {
                                    "0": "2",
                                    "1": "0916334481"
                                },
                                {
                                    "0": "10",
                                    "1": "0928143915"
                                },
                                {
                                    "0": "5",
                                    "1": "0929812016"
                                },
                                {
                                    "0": "19",
                                    "1": "0947431690"
                                },
                                {
                                    "0": "6",
                                    "1": "0995508143"
                                }
                            ]
                        },
                        "text/html": [
                            "<table>",
                            "<tr><th>Member_id</th><th>Phone_number</th></tr>",
                            "<tr><td>1</td><td>0611582059</td></tr>",
                            "<tr><td>15</td><td>0615726786</td></tr>",
                            "<tr><td>13</td><td>0626552807</td></tr>",
                            "<tr><td>8</td><td>0627819202</td></tr>",
                            "<tr><td>18</td><td>0644492857</td></tr>",
                            "<tr><td>3</td><td>0817103766</td></tr>",
                            "<tr><td>16</td><td>0819621534</td></tr>",
                            "<tr><td>12</td><td>0822634963</td></tr>",
                            "<tr><td>9</td><td>0824315960</td></tr>",
                            "<tr><td>14</td><td>0828467479</td></tr>",
                            "<tr><td>11</td><td>0829915268</td></tr>",
                            "<tr><td>17</td><td>0843097398</td></tr>",
                            "<tr><td>20</td><td>0851237981</td></tr>",
                            "<tr><td>4</td><td>0884827694</td></tr>",
                            "<tr><td>7</td><td>0893466457</td></tr>",
                            "<tr><td>2</td><td>0916334481</td></tr>",
                            "<tr><td>10</td><td>0928143915</td></tr>",
                            "<tr><td>5</td><td>0929812016</td></tr>",
                            "<tr><td>19</td><td>0947431690</td></tr>",
                            "<tr><td>6</td><td>0995508143</td></tr>",
                            "</table>"
                        ]
                    }
                }
            ],
            "execution_count": 24
        },
        {
            "cell_type": "code",
            "source": [
                "select * from Book;"
            ],
            "metadata": {
                "language": "sql",
                "azdata_cell_guid": "049cdd5c-9916-4003-949f-62148c9a316b"
            },
            "outputs": [
                {
                    "output_type": "display_data",
                    "data": {
                        "text/html": "(20 rows affected)"
                    },
                    "metadata": {}
                },
                {
                    "output_type": "display_data",
                    "data": {
                        "text/html": "Total execution time: 00:00:00.013"
                    },
                    "metadata": {}
                },
                {
                    "output_type": "execute_result",
                    "metadata": {},
                    "execution_count": 25,
                    "data": {
                        "application/vnd.dataresource+json": {
                            "schema": {
                                "fields": [
                                    {
                                        "name": "Book_id"
                                    },
                                    {
                                        "name": "Title"
                                    },
                                    {
                                        "name": "Author"
                                    },
                                    {
                                        "name": "Genre"
                                    },
                                    {
                                        "name": "Publisher"
                                    },
                                    {
                                        "name": "Publication_date"
                                    }
                                ]
                            },
                            "data": [
                                {
                                    "0": "1",
                                    "1": "To Kill a Mockingbird",
                                    "2": "Harper Lee",
                                    "3": "Classic Fiction",
                                    "4": "HarperCollins Publishers",
                                    "5": "1960-07-11"
                                },
                                {
                                    "0": "2",
                                    "1": "The Great Gatsby",
                                    "2": "F. Scott Fitzgerald",
                                    "3": "Literary Fiction",
                                    "4": "Charles Scribner's Sons",
                                    "5": "1925-04-10"
                                },
                                {
                                    "0": "3",
                                    "1": "1984",
                                    "2": "George Orwell",
                                    "3": "Dystopian Fiction",
                                    "4": "Secker & Warburg",
                                    "5": "1949-06-08"
                                },
                                {
                                    "0": "4",
                                    "1": "Animal Farm",
                                    "2": "George Orwell",
                                    "3": "Political Fiction",
                                    "4": "Secker & Warburg",
                                    "5": "1945-08-17"
                                },
                                {
                                    "0": "5",
                                    "1": "Brave New World",
                                    "2": "Aldous Huxley",
                                    "3": "Dystopian Fiction",
                                    "4": "Chatto & Windus",
                                    "5": "1932-06-01"
                                },
                                {
                                    "0": "6",
                                    "1": "Pride and Prejudice",
                                    "2": "Jane Austen",
                                    "3": "Romance",
                                    "4": "T. Egerton, Whitehall",
                                    "5": "1813-01-28"
                                },
                                {
                                    "0": "7",
                                    "1": "The Lord of the Rings",
                                    "2": "J.R.R. Tolkien",
                                    "3": "High Fantasy",
                                    "4": "George Allen & Unwin",
                                    "5": "1954-07-29"
                                },
                                {
                                    "0": "8",
                                    "1": "The Catcher in the Rye",
                                    "2": "J.D. Salinger",
                                    "3": "Coming-of-age Fiction",
                                    "4": "Little, Brown and Company",
                                    "5": "1951-07-16"
                                },
                                {
                                    "0": "9",
                                    "1": "To the Lighthouse",
                                    "2": "Virginia Woolf",
                                    "3": "Modernist Literature",
                                    "4": "Hogarth Press",
                                    "5": "1927-05-05"
                                },
                                {
                                    "0": "10",
                                    "1": "The Color Purple",
                                    "2": "Alice Walker",
                                    "3": "Epistolary Novel",
                                    "4": "Harcourt Brace Jovanovich",
                                    "5": "1982-06-01"
                                },
                                {
                                    "0": "11",
                                    "1": "The Hobbit",
                                    "2": "J.R.R. Tolkien",
                                    "3": "Fantasy",
                                    "4": "George Allen & Unwin",
                                    "5": "1937-09-21"
                                },
                                {
                                    "0": "12",
                                    "1": "The Adventures of Huckleberry Finn",
                                    "2": "Mark Twain",
                                    "3": "Adventure",
                                    "4": "Chatto & Windus",
                                    "5": "1884-12-10"
                                },
                                {
                                    "0": "13",
                                    "1": "Moby-Dick",
                                    "2": "Herman Melville",
                                    "3": "Adventure Fiction",
                                    "4": "Harper & Brothers",
                                    "5": "1851-10-18"
                                },
                                {
                                    "0": "14",
                                    "1": "Frankenstein",
                                    "2": "Mary Shelley",
                                    "3": "Gothic Fiction",
                                    "4": "Lackington, Hughes, Harding, Mavor & Jones",
                                    "5": "1818-01-01"
                                },
                                {
                                    "0": "15",
                                    "1": "Dracula",
                                    "2": "Bram Stoker",
                                    "3": "Gothic Fiction",
                                    "4": "Archibald Constable and Company",
                                    "5": "1897-05-26"
                                },
                                {
                                    "0": "16",
                                    "1": "Jane Eyre",
                                    "2": "Charlotte Bronte",
                                    "3": "Gothic Fiction",
                                    "4": "Smith, Elder & Co.",
                                    "5": "1847-10-16"
                                },
                                {
                                    "0": "17",
                                    "1": "The Picture of Dorian Gray",
                                    "2": "Oscar Wilde",
                                    "3": "Philosophical Fiction",
                                    "4": "Lippincott's Monthly Magazine",
                                    "5": "1890-06-20"
                                },
                                {
                                    "0": "18",
                                    "1": "Gone with the Wind",
                                    "2": "Margaret Mitchell",
                                    "3": "Historical Fiction",
                                    "4": "Macmillan Publishers",
                                    "5": "1936-06-30"
                                },
                                {
                                    "0": "19",
                                    "1": "The Alchemist",
                                    "2": "Paulo Coelho",
                                    "3": "Fiction",
                                    "4": "HarperCollins",
                                    "5": "1988-01-01"
                                },
                                {
                                    "0": "20",
                                    "1": "The Chronicles of Narnia",
                                    "2": "C.S. Lewis",
                                    "3": "Fantasy",
                                    "4": "Geoffrey Bles",
                                    "5": "1950-10-16"
                                }
                            ]
                        },
                        "text/html": [
                            "<table>",
                            "<tr><th>Book_id</th><th>Title</th><th>Author</th><th>Genre</th><th>Publisher</th><th>Publication_date</th></tr>",
                            "<tr><td>1</td><td>To Kill a Mockingbird</td><td>Harper Lee</td><td>Classic Fiction</td><td>HarperCollins Publishers</td><td>1960-07-11</td></tr>",
                            "<tr><td>2</td><td>The Great Gatsby</td><td>F. Scott Fitzgerald</td><td>Literary Fiction</td><td>Charles Scribner's Sons</td><td>1925-04-10</td></tr>",
                            "<tr><td>3</td><td>1984</td><td>George Orwell</td><td>Dystopian Fiction</td><td>Secker &amp; Warburg</td><td>1949-06-08</td></tr>",
                            "<tr><td>4</td><td>Animal Farm</td><td>George Orwell</td><td>Political Fiction</td><td>Secker &amp; Warburg</td><td>1945-08-17</td></tr>",
                            "<tr><td>5</td><td>Brave New World</td><td>Aldous Huxley</td><td>Dystopian Fiction</td><td>Chatto &amp; Windus</td><td>1932-06-01</td></tr>",
                            "<tr><td>6</td><td>Pride and Prejudice</td><td>Jane Austen</td><td>Romance</td><td>T. Egerton, Whitehall</td><td>1813-01-28</td></tr>",
                            "<tr><td>7</td><td>The Lord of the Rings</td><td>J.R.R. Tolkien</td><td>High Fantasy</td><td>George Allen &amp; Unwin</td><td>1954-07-29</td></tr>",
                            "<tr><td>8</td><td>The Catcher in the Rye</td><td>J.D. Salinger</td><td>Coming-of-age Fiction</td><td>Little, Brown and Company</td><td>1951-07-16</td></tr>",
                            "<tr><td>9</td><td>To the Lighthouse</td><td>Virginia Woolf</td><td>Modernist Literature</td><td>Hogarth Press</td><td>1927-05-05</td></tr>",
                            "<tr><td>10</td><td>The Color Purple</td><td>Alice Walker</td><td>Epistolary Novel</td><td>Harcourt Brace Jovanovich</td><td>1982-06-01</td></tr>",
                            "<tr><td>11</td><td>The Hobbit</td><td>J.R.R. Tolkien</td><td>Fantasy</td><td>George Allen &amp; Unwin</td><td>1937-09-21</td></tr>",
                            "<tr><td>12</td><td>The Adventures of Huckleberry Finn</td><td>Mark Twain</td><td>Adventure</td><td>Chatto &amp; Windus</td><td>1884-12-10</td></tr>",
                            "<tr><td>13</td><td>Moby-Dick</td><td>Herman Melville</td><td>Adventure Fiction</td><td>Harper &amp; Brothers</td><td>1851-10-18</td></tr>",
                            "<tr><td>14</td><td>Frankenstein</td><td>Mary Shelley</td><td>Gothic Fiction</td><td>Lackington, Hughes, Harding, Mavor &amp; Jones</td><td>1818-01-01</td></tr>",
                            "<tr><td>15</td><td>Dracula</td><td>Bram Stoker</td><td>Gothic Fiction</td><td>Archibald Constable and Company</td><td>1897-05-26</td></tr>",
                            "<tr><td>16</td><td>Jane Eyre</td><td>Charlotte Bronte</td><td>Gothic Fiction</td><td>Smith, Elder &amp; Co.</td><td>1847-10-16</td></tr>",
                            "<tr><td>17</td><td>The Picture of Dorian Gray</td><td>Oscar Wilde</td><td>Philosophical Fiction</td><td>Lippincott's Monthly Magazine</td><td>1890-06-20</td></tr>",
                            "<tr><td>18</td><td>Gone with the Wind</td><td>Margaret Mitchell</td><td>Historical Fiction</td><td>Macmillan Publishers</td><td>1936-06-30</td></tr>",
                            "<tr><td>19</td><td>The Alchemist</td><td>Paulo Coelho</td><td>Fiction</td><td>HarperCollins</td><td>1988-01-01</td></tr>",
                            "<tr><td>20</td><td>The Chronicles of Narnia</td><td>C.S. Lewis</td><td>Fantasy</td><td>Geoffrey Bles</td><td>1950-10-16</td></tr>",
                            "</table>"
                        ]
                    }
                }
            ],
            "execution_count": 25
        },
        {
            "cell_type": "code",
            "source": [
                "select * from Lending;"
            ],
            "metadata": {
                "language": "sql",
                "azdata_cell_guid": "bd95ee76-de0d-4dcb-ad39-4f3b989ae6b5"
            },
            "outputs": [
                {
                    "output_type": "display_data",
                    "data": {
                        "text/html": "(20 rows affected)"
                    },
                    "metadata": {}
                },
                {
                    "output_type": "display_data",
                    "data": {
                        "text/html": "Total execution time: 00:00:00.004"
                    },
                    "metadata": {}
                },
                {
                    "output_type": "execute_result",
                    "metadata": {},
                    "execution_count": 26,
                    "data": {
                        "application/vnd.dataresource+json": {
                            "schema": {
                                "fields": [
                                    {
                                        "name": "Lending_id"
                                    },
                                    {
                                        "name": "Member_id"
                                    },
                                    {
                                        "name": "Book_id"
                                    },
                                    {
                                        "name": "Borrow_date"
                                    },
                                    {
                                        "name": "Return_date"
                                    }
                                ]
                            },
                            "data": [
                                {
                                    "0": "1",
                                    "1": "1",
                                    "2": "2",
                                    "3": "2022-01-05",
                                    "4": "2022-01-15"
                                },
                                {
                                    "0": "2",
                                    "1": "3",
                                    "2": "4",
                                    "3": "2022-02-10",
                                    "4": "2022-02-20"
                                },
                                {
                                    "0": "3",
                                    "1": "2",
                                    "2": "5",
                                    "3": "2022-03-15",
                                    "4": "NULL"
                                },
                                {
                                    "0": "4",
                                    "1": "5",
                                    "2": "7",
                                    "3": "2022-04-20",
                                    "4": "2022-05-01"
                                },
                                {
                                    "0": "5",
                                    "1": "4",
                                    "2": "9",
                                    "3": "2022-05-25",
                                    "4": "2022-06-05"
                                },
                                {
                                    "0": "6",
                                    "1": "1",
                                    "2": "11",
                                    "3": "2022-06-30",
                                    "4": "NULL"
                                },
                                {
                                    "0": "7",
                                    "1": "6",
                                    "2": "13",
                                    "3": "2022-07-05",
                                    "4": "2022-07-15"
                                },
                                {
                                    "0": "8",
                                    "1": "3",
                                    "2": "15",
                                    "3": "2022-08-10",
                                    "4": "2022-08-20"
                                },
                                {
                                    "0": "9",
                                    "1": "4",
                                    "2": "17",
                                    "3": "2022-09-15",
                                    "4": "NULL"
                                },
                                {
                                    "0": "10",
                                    "1": "2",
                                    "2": "19",
                                    "3": "2022-10-20",
                                    "4": "2022-11-01"
                                },
                                {
                                    "0": "11",
                                    "1": "5",
                                    "2": "1",
                                    "3": "2022-11-25",
                                    "4": "2022-12-05"
                                },
                                {
                                    "0": "12",
                                    "1": "6",
                                    "2": "3",
                                    "3": "2022-12-30",
                                    "4": "NULL"
                                },
                                {
                                    "0": "13",
                                    "1": "1",
                                    "2": "5",
                                    "3": "2023-01-05",
                                    "4": "2023-01-15"
                                },
                                {
                                    "0": "14",
                                    "1": "2",
                                    "2": "7",
                                    "3": "2023-02-10",
                                    "4": "2023-02-20"
                                },
                                {
                                    "0": "15",
                                    "1": "3",
                                    "2": "9",
                                    "3": "2023-03-15",
                                    "4": "NULL"
                                },
                                {
                                    "0": "16",
                                    "1": "4",
                                    "2": "11",
                                    "3": "2023-04-20",
                                    "4": "2023-05-01"
                                },
                                {
                                    "0": "17",
                                    "1": "5",
                                    "2": "13",
                                    "3": "2023-05-25",
                                    "4": "2023-06-05"
                                },
                                {
                                    "0": "18",
                                    "1": "6",
                                    "2": "15",
                                    "3": "2023-06-30",
                                    "4": "NULL"
                                },
                                {
                                    "0": "19",
                                    "1": "1",
                                    "2": "17",
                                    "3": "2023-07-05",
                                    "4": "2023-07-15"
                                },
                                {
                                    "0": "20",
                                    "1": "2",
                                    "2": "19",
                                    "3": "2023-08-10",
                                    "4": "2023-08-20"
                                }
                            ]
                        },
                        "text/html": [
                            "<table>",
                            "<tr><th>Lending_id</th><th>Member_id</th><th>Book_id</th><th>Borrow_date</th><th>Return_date</th></tr>",
                            "<tr><td>1</td><td>1</td><td>2</td><td>2022-01-05</td><td>2022-01-15</td></tr>",
                            "<tr><td>2</td><td>3</td><td>4</td><td>2022-02-10</td><td>2022-02-20</td></tr>",
                            "<tr><td>3</td><td>2</td><td>5</td><td>2022-03-15</td><td>NULL</td></tr>",
                            "<tr><td>4</td><td>5</td><td>7</td><td>2022-04-20</td><td>2022-05-01</td></tr>",
                            "<tr><td>5</td><td>4</td><td>9</td><td>2022-05-25</td><td>2022-06-05</td></tr>",
                            "<tr><td>6</td><td>1</td><td>11</td><td>2022-06-30</td><td>NULL</td></tr>",
                            "<tr><td>7</td><td>6</td><td>13</td><td>2022-07-05</td><td>2022-07-15</td></tr>",
                            "<tr><td>8</td><td>3</td><td>15</td><td>2022-08-10</td><td>2022-08-20</td></tr>",
                            "<tr><td>9</td><td>4</td><td>17</td><td>2022-09-15</td><td>NULL</td></tr>",
                            "<tr><td>10</td><td>2</td><td>19</td><td>2022-10-20</td><td>2022-11-01</td></tr>",
                            "<tr><td>11</td><td>5</td><td>1</td><td>2022-11-25</td><td>2022-12-05</td></tr>",
                            "<tr><td>12</td><td>6</td><td>3</td><td>2022-12-30</td><td>NULL</td></tr>",
                            "<tr><td>13</td><td>1</td><td>5</td><td>2023-01-05</td><td>2023-01-15</td></tr>",
                            "<tr><td>14</td><td>2</td><td>7</td><td>2023-02-10</td><td>2023-02-20</td></tr>",
                            "<tr><td>15</td><td>3</td><td>9</td><td>2023-03-15</td><td>NULL</td></tr>",
                            "<tr><td>16</td><td>4</td><td>11</td><td>2023-04-20</td><td>2023-05-01</td></tr>",
                            "<tr><td>17</td><td>5</td><td>13</td><td>2023-05-25</td><td>2023-06-05</td></tr>",
                            "<tr><td>18</td><td>6</td><td>15</td><td>2023-06-30</td><td>NULL</td></tr>",
                            "<tr><td>19</td><td>1</td><td>17</td><td>2023-07-05</td><td>2023-07-15</td></tr>",
                            "<tr><td>20</td><td>2</td><td>19</td><td>2023-08-10</td><td>2023-08-20</td></tr>",
                            "</table>"
                        ]
                    }
                }
            ],
            "execution_count": 26
        },
        {
            "cell_type": "code",
            "source": [
                "DROP PROCEDURE IF EXISTS createLending"
            ],
            "metadata": {
                "azdata_cell_guid": "f42798a7-668d-4d2b-8fb2-41811f2d4c34",
                "language": "sql"
            },
            "outputs": [
                {
                    "output_type": "display_data",
                    "data": {
                        "text/html": "Commands completed successfully."
                    },
                    "metadata": {}
                },
                {
                    "output_type": "display_data",
                    "data": {
                        "text/html": "Total execution time: 00:00:00.013"
                    },
                    "metadata": {}
                }
            ],
            "execution_count": 27
        },
        {
            "cell_type": "code",
            "source": [
                "Create Procedure createLending @Lending_id INT, @Member_id INT, @Book_id INT, @Borrow_date DATE\r\n",
                "as \r\n",
                "begin\r\n",
                " begin try\r\n",
                "  begin transaction\r\n",
                "   IF not exists (select * from Lending where Book_id = @Book_id and Return_date is NULL)\r\n",
                "    INSERT dbo.Lending (Lending_id, Member_id, Book_id, Borrow_date, Return_date) VALUES ( @Lending_id, @Member_id, @Book_id, @Borrow_date, NULL)\r\n",
                "  commit Transaction\r\n",
                "  print 'Transaction Comitted'\r\n",
                " end try\r\n",
                " begin catch\r\n",
                "  rollback transaction\r\n",
                "  print 'Transaction Rolled Back'\r\n",
                " end catch\r\n",
                "end"
            ],
            "metadata": {
                "azdata_cell_guid": "d08380eb-7a7c-4d70-b4c0-a16e42c5f11c",
                "language": "sql",
                "tags": []
            },
            "outputs": [
                {
                    "output_type": "display_data",
                    "data": {
                        "text/html": "Commands completed successfully."
                    },
                    "metadata": {}
                },
                {
                    "output_type": "display_data",
                    "data": {
                        "text/html": "Total execution time: 00:00:00.007"
                    },
                    "metadata": {}
                }
            ],
            "execution_count": 28
        },
        {
            "cell_type": "code",
            "source": [
                "DROP PROCEDURE IF EXISTS returnLending"
            ],
            "metadata": {
                "language": "sql",
                "azdata_cell_guid": "bd5cd575-39b9-42fb-a14a-0cc07e648000"
            },
            "outputs": [
                {
                    "output_type": "display_data",
                    "data": {
                        "text/html": "Commands completed successfully."
                    },
                    "metadata": {}
                },
                {
                    "output_type": "display_data",
                    "data": {
                        "text/html": "Total execution time: 00:00:00.006"
                    },
                    "metadata": {}
                }
            ],
            "execution_count": 29
        },
        {
            "cell_type": "code",
            "source": [
                "Create Procedure returnLending @Lending_id INT, @Return_date DATE\r\n",
                "as \r\n",
                "begin\r\n",
                " begin try\r\n",
                "  begin transaction\r\n",
                "    UPDATE Lending SET Return_date = @Return_date WHERE Lending_id = @Lending_id and @Return_date is not NULL;\r\n",
                "  commit Transaction\r\n",
                "  print 'Transaction Comitted'\r\n",
                " end try\r\n",
                " begin catch\r\n",
                "  rollback transaction\r\n",
                "  print 'Transaction Rolled Back'\r\n",
                " end catch\r\n",
                "end"
            ],
            "metadata": {
                "language": "sql",
                "azdata_cell_guid": "7bbb1db6-ebba-4716-84a4-f97cb61c415c"
            },
            "outputs": [
                {
                    "output_type": "display_data",
                    "data": {
                        "text/html": "Commands completed successfully."
                    },
                    "metadata": {}
                },
                {
                    "output_type": "display_data",
                    "data": {
                        "text/html": "Total execution time: 00:00:00.006"
                    },
                    "metadata": {}
                }
            ],
            "execution_count": 30
        }
    ]
}